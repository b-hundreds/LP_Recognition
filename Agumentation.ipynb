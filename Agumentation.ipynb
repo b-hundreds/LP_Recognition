{
  "nbformat": 4,
  "nbformat_minor": 0,
  "metadata": {
    "colab": {
      "provenance": [],
      "gpuType": "T4"
    },
    "kernelspec": {
      "name": "python3",
      "display_name": "Python 3"
    },
    "language_info": {
      "name": "python"
    }
  },
  "cells": [
    {
      "cell_type": "code",
      "source": [
        "import zipfile\n",
        "from google.colab import drive\n",
        "\n",
        "drive.mount('/content/drive/')"
      ],
      "metadata": {
        "colab": {
          "base_uri": "https://localhost:8080/"
        },
        "id": "yDw3hUfe0JYi",
        "outputId": "3b444414-4dec-4709-ea96-1b04a9653596"
      },
      "execution_count": 1,
      "outputs": [
        {
          "output_type": "stream",
          "name": "stdout",
          "text": [
            "Mounted at /content/drive/\n"
          ]
        }
      ]
    },
    {
      "cell_type": "code",
      "source": [
        "!unzip '/content/drive/MyDrive/yolo_plate_ocr_dataset' -d '/content/yolo_plate_ocr_dataset'"
      ],
      "metadata": {
        "colab": {
          "base_uri": "https://localhost:8080/"
        },
        "id": "eIJNglaA0O-I",
        "outputId": "b0053e3e-3b29-4dc2-b869-c5984a0cd293"
      },
      "execution_count": 2,
      "outputs": [
        {
          "output_type": "stream",
          "name": "stdout",
          "text": [
            "  inflating: /content/yolo_plate_ocr_dataset/yolo_plate_ocr_dataset/images/3xemay596.jpg  \n",
            "  inflating: /content/yolo_plate_ocr_dataset/yolo_plate_ocr_dataset/images/3xemay598.jpg  \n",
            "  inflating: /content/yolo_plate_ocr_dataset/yolo_plate_ocr_dataset/images/3xemay60.jpg  \n",
            "  inflating: /content/yolo_plate_ocr_dataset/yolo_plate_ocr_dataset/images/3xemay600.jpg  \n",
            "  inflating: /content/yolo_plate_ocr_dataset/yolo_plate_ocr_dataset/images/3xemay604.jpg  \n",
            "  inflating: /content/yolo_plate_ocr_dataset/yolo_plate_ocr_dataset/images/3xemay61.jpg  \n",
            "  inflating: /content/yolo_plate_ocr_dataset/yolo_plate_ocr_dataset/images/3xemay612.jpg  \n",
            "  inflating: /content/yolo_plate_ocr_dataset/yolo_plate_ocr_dataset/images/3xemay633.jpg  \n",
            "  inflating: /content/yolo_plate_ocr_dataset/yolo_plate_ocr_dataset/images/3xemay634.jpg  \n",
            "  inflating: /content/yolo_plate_ocr_dataset/yolo_plate_ocr_dataset/images/3xemay636.jpg  \n",
            "  inflating: /content/yolo_plate_ocr_dataset/yolo_plate_ocr_dataset/images/3xemay637.jpg  \n",
            "  inflating: /content/yolo_plate_ocr_dataset/yolo_plate_ocr_dataset/images/3xemay639.jpg  \n",
            "  inflating: /content/yolo_plate_ocr_dataset/yolo_plate_ocr_dataset/labels/iwt89.txt  \n  \n"
          ]
        }
      ]
    },
    {
      "cell_type": "code",
      "source": [
        "!pip install -U albumentations"
      ],
      "metadata": {
        "colab": {
          "base_uri": "https://localhost:8080/"
        },
        "id": "J9Oxz842mW6b",
        "outputId": "dcfdaef6-bf55-471c-9485-d3ed326c863b"
      },
      "execution_count": 3,
      "outputs": [
        {
          "output_type": "stream",
          "name": "stdout",
          "text": [
            "Requirement already satisfied: albumentations in /usr/local/lib/python3.10/dist-packages (1.2.1)\n",
            "Collecting albumentations\n",
            "  Downloading albumentations-1.3.1-py3-none-any.whl (125 kB)\n",
            "\u001b[2K     \u001b[90m━━━━━━━━━━━━━━━━━━━━━━━━━━━━━━━━━━━━━━━\u001b[0m \u001b[32m125.7/125.7 kB\u001b[0m \u001b[31m6.0 MB/s\u001b[0m eta \u001b[36m0:00:00\u001b[0m\n",
            "\u001b[?25hRequirement already satisfied: numpy>=1.11.1 in /usr/local/lib/python3.10/dist-packages (from albumentations) (1.22.4)\n",
            "Requirement already satisfied: scipy>=1.1.0 in /usr/local/lib/python3.10/dist-packages (from albumentations) (1.10.1)\n",
            "Requirement already satisfied: scikit-image>=0.16.1 in /usr/local/lib/python3.10/dist-packages (from albumentations) (0.19.3)\n",
            "Requirement already satisfied: PyYAML in /usr/local/lib/python3.10/dist-packages (from albumentations) (6.0)\n",
            "Requirement already satisfied: qudida>=0.0.4 in /usr/local/lib/python3.10/dist-packages (from albumentations) (0.0.4)\n",
            "Requirement already satisfied: opencv-python-headless>=4.1.1 in /usr/local/lib/python3.10/dist-packages (from albumentations) (4.7.0.72)\n",
            "Requirement already satisfied: scikit-learn>=0.19.1 in /usr/local/lib/python3.10/dist-packages (from qudida>=0.0.4->albumentations) (1.2.2)\n",
            "Requirement already satisfied: typing-extensions in /usr/local/lib/python3.10/dist-packages (from qudida>=0.0.4->albumentations) (4.6.3)\n",
            "Requirement already satisfied: networkx>=2.2 in /usr/local/lib/python3.10/dist-packages (from scikit-image>=0.16.1->albumentations) (3.1)\n",
            "Requirement already satisfied: pillow!=7.1.0,!=7.1.1,!=8.3.0,>=6.1.0 in /usr/local/lib/python3.10/dist-packages (from scikit-image>=0.16.1->albumentations) (8.4.0)\n",
            "Requirement already satisfied: imageio>=2.4.1 in /usr/local/lib/python3.10/dist-packages (from scikit-image>=0.16.1->albumentations) (2.25.1)\n",
            "Requirement already satisfied: tifffile>=2019.7.26 in /usr/local/lib/python3.10/dist-packages (from scikit-image>=0.16.1->albumentations) (2023.4.12)\n",
            "Requirement already satisfied: PyWavelets>=1.1.1 in /usr/local/lib/python3.10/dist-packages (from scikit-image>=0.16.1->albumentations) (1.4.1)\n",
            "Requirement already satisfied: packaging>=20.0 in /usr/local/lib/python3.10/dist-packages (from scikit-image>=0.16.1->albumentations) (23.1)\n",
            "Requirement already satisfied: joblib>=1.1.1 in /usr/local/lib/python3.10/dist-packages (from scikit-learn>=0.19.1->qudida>=0.0.4->albumentations) (1.2.0)\n",
            "Requirement already satisfied: threadpoolctl>=2.0.0 in /usr/local/lib/python3.10/dist-packages (from scikit-learn>=0.19.1->qudida>=0.0.4->albumentations) (3.1.0)\n",
            "Installing collected packages: albumentations\n",
            "  Attempting uninstall: albumentations\n",
            "    Found existing installation: albumentations 1.2.1\n",
            "    Uninstalling albumentations-1.2.1:\n",
            "      Successfully uninstalled albumentations-1.2.1\n",
            "Successfully installed albumentations-1.3.1\n"
          ]
        }
      ]
    },
    {
      "cell_type": "code",
      "source": [
        "import pandas as pd\n",
        "import numpy as np\n",
        "import cv2\n",
        "import albumentations as A\n",
        "from decimal import Decimal, ROUND_HALF_UP\n",
        "import glob"
      ],
      "metadata": {
        "id": "3R0FMWQJWJm_"
      },
      "execution_count": 4,
      "outputs": []
    },
    {
      "cell_type": "code",
      "source": [
        "def get_boxes(path):\n",
        "  txt = pd.read_csv(path, delimiter=' ', header=None)\n",
        "  arr_txt = np.asarray(txt)\n",
        "  new_arr = np.zeros_like(arr_txt)\n",
        "  new_arr[:, :4] = arr_txt[:, 1:]\n",
        "  new_arr[:, 4] = arr_txt[:, 0]\n",
        "  return new_arr.tolist()\n",
        "\n",
        "def get_images(path):\n",
        "  return cv2.imread(path)\n",
        "\n",
        "transform = A.Compose([\n",
        "    A.Rotate(limit=40, p=1),\n",
        "], bbox_params=A.BboxParams(format='yolo', min_visibility=0.7))\n",
        "\n",
        "\n",
        "def write_array_to_text_file(list_array, save_path):\n",
        "    array = np.array(list_array)\n",
        "    # Làm tròn các giá trị số thập phân\n",
        "    rounded_array = np.zeros_like(array, dtype=object)\n",
        "    for i in range(array.shape[0]):\n",
        "      for j in range(array.shape[1]-1):\n",
        "        rounded_array[i, j+1] = Decimal(array[i, j]).quantize(Decimal('0.000000'), rounding=ROUND_HALF_UP)\n",
        "\n",
        "    for i in range(array.shape[0]):\n",
        "      rounded_array[i, 0] = Decimal(array[i, 4]).quantize(Decimal('0.'), rounding=ROUND_HALF_UP)\n",
        "\n",
        "    # Ghi mảng vào file văn bản\n",
        "    with open(save_path, 'w') as file:\n",
        "      for row in rounded_array:\n",
        "        line = ' '.join(map(str, row)) + '\\n'\n",
        "        file.write(line)\n"
      ],
      "metadata": {
        "id": "gz6g2vESlsbL"
      },
      "execution_count": 5,
      "outputs": []
    },
    {
      "cell_type": "code",
      "source": [
        "!mkdir /content/augment\n",
        "!mkdir /content/augment/labels\n",
        "!mkdir /content/augment/images"
      ],
      "metadata": {
        "id": "IwkweN0eG7zh"
      },
      "execution_count": 6,
      "outputs": []
    },
    {
      "cell_type": "code",
      "source": [
        "a = glob.glob('/content/yolo_plate_ocr_dataset/yolo_plate_ocr_dataset/images/*')\n",
        "for image_path in a:\n",
        "  label_path = image_path[:55] + 'labels/' + image_path[62:len(image_path)-3] + 'txt'\n",
        "  augment_image = transform(image=get_images(image_path), bboxes=get_boxes(label_path))\n",
        "  new_image_path = '/content/augment/images/' + 'rotate' + image_path[62:len(image_path)-3] + 'jpg'\n",
        "  new_label_path = '/content/augment/labels/' + 'rotate' + image_path[62:len(image_path)-3] + 'txt'\n",
        "  cv2.imwrite(new_image_path, augment_image['image'])\n",
        "  write_array_to_text_file(augment_image['bboxes'],new_label_path)"
      ],
      "metadata": {
        "id": "x8vFB_nKaTNU"
      },
      "execution_count": 7,
      "outputs": []
    },
    {
      "cell_type": "code",
      "source": [
        "import locale\n",
        "def getpreferredencoding(do_setlocale = True):\n",
        "    return \"UTF-8\"\n",
        "locale.getpreferredencoding = getpreferredencoding\n",
        "\n",
        "!zip -r /content/augment1 /content/augment"
      ],
      "metadata": {
        "colab": {
          "base_uri": "https://localhost:8080/"
        },
        "id": "JpVJ9bcV8XTh",
        "outputId": "2de58bfd-3b5a-435f-bbff-ea779f898eb3"
      },
      "execution_count": 8,
      "outputs": [
        {
          "output_type": "stream",
          "name": "stdout",
          "text": [
            "\u001b[1;30;43mKết quả truyền trực tuyến bị cắt bớt đến 5000 dòng cuối.\u001b[0m\n",
            "  adding: content/augment/labels/rotate5xemay767.txt (deflated 53%)\n",
            "  adding: content/augment/labels/rotate4xemay1955.txt (deflated 52%)\n",
            "  adding: content/augment/labels/rotate13xemay1343.txt (deflated 51%)\n",
            "  adding: content/augment/labels/rotateiwt350.txt (deflated 52%)\n",
            "  adding: content/augment/labels/rotateiwt83.txt (deflated 47%)\n",
            "  adding: content/augment/labels/rotateiwt410.txt (deflated 38%)\n",
            "  adding: content/augment/labels/rotate3xemay1305.txt (deflated 52%)\n",
            "  adding: content/augment/labels/rotate6xemay97.txt (deflated 53%)\n",
            "  adding: content/augment/labels/rotateiwt344.txt (deflated 51%)\n",
            "  adding: content/augment/labels/rotate8xemay1182.txt (deflated 52%)\n",
            "  adding: content/augment/labels/rotate2xemay113.txt (deflated 52%)\n",
            "  adding: content/augment/labels/rotate4xemay2037.txt (deflated 52%)\n",
            "  adding: content/augment/images/rotate3xemay744.jpg (deflated 0%)\n",
            "  adding: content/augment/images/rotate3xemay1327.jpg (deflated 0%)\n",
            "  adding: content/augment/images/rotate5CarLongPlate310.jpg (deflated 1%)\n",
            "  adding: content/augment/images/rotateiwt73.jpg (deflated 2%)\n",
            "  adding: content/augment/images/rotate3xemay396.jpg (deflated 0%)\n",
            "  adding: content/augment/images/rotate5xemay961.jpg (deflated 0%)\n",
            "  adding: content/augment/images/rotate3PlateBaza460.jpg (deflated 2%)\n",
            "  adding: content/augment/images/rotate3xemay671.jpg (deflated 0%)\n",
            "  adding: content/augment/images/rotate5PlateBaza192.jpg (deflated 1%)\n",
            "  adding: content/augment/images/rotate1xemay1249.jpg (deflated 0%)\n",
            "  adding: content/augment/images/rotate1xemay509.jpg (deflated 0%)\n",
            "  adding: content/augment/images/rotate13xemay683.jpg (deflated 0%)\n",
            "  adding: content/augment/images/rotate5xemay580.jpg (deflated 0%)\n",
            "  adding: content/augment/images/rotate1xemay791.jpg (deflated 0%)\n",
            "  adding: content/augment/images/rotateiwt773.jpg (deflated 1%)\n",
            "  adding: content/augment/images/rotate7xemay2121.jpg (deflated 0%)\n",
            "  adding: content/augment/images/rotate3CarLongPlate932.jpg (deflated 1%)\n",
            "  adding: content/augment/images/rotate4CarLongPlate336.jpg (deflated 1%)\n",
            "  adding: content/augment/images/rotateiwt439.jpg (deflated 1%)\n",
            "  adding: content/augment/images/rotate8xemay1964.jpg (deflated 0%)\n",
            "  adding: content/augment/images/rotate8xemay2411.jpg (deflated 0%)\n",
            "  adding: content/augment/images/rotateiwt514.jpg (deflated 1%)\n",
            "  adding: content/augment/images/rotate3CarLongPlate806.jpg (deflated 1%)\n",
            "  adding: content/augment/images/rotateiwt412.jpg (deflated 1%)\n",
            "  adding: content/augment/images/rotate6xemay360.jpg (deflated 0%)\n",
            "  adding: content/augment/images/rotate2xemay1836.jpg (deflated 0%)\n",
            "  adding: content/augment/images/rotateiwt610.jpg (deflated 1%)\n",
            "  adding: content/augment/images/rotate6CarLongPlate22.jpg (deflated 1%)\n",
            "  adding: content/augment/images/rotateiwt246.jpg (deflated 1%)\n",
            "  adding: content/augment/images/rotate10xemay2052.jpg (deflated 0%)\n",
            "  adding: content/augment/images/rotate5xemay531.jpg (deflated 0%)\n",
            "  adding: content/augment/images/rotate3xemay1845.jpg (deflated 0%)\n",
            "  adding: content/augment/images/rotate3CarLongPlate449.jpg (deflated 1%)\n",
            "  adding: content/augment/images/rotate3CarLongPlate256.jpg (deflated 1%)\n",
            "  adding: content/augment/images/rotate4xemay2134.jpg (deflated 0%)\n",
            "  adding: content/augment/images/rotateiwt350.jpg (deflated 2%)\n",
            "  adding: content/augment/images/rotate3xemay1234.jpg (deflated 0%)\n",
            "  adding: content/augment/images/rotate3CarLongPlate424.jpg (deflated 1%)\n",
            "  adding: content/augment/images/rotate3CarLongPlate399.jpg (deflated 1%)\n",
            "  adding: content/augment/images/rotate5xemay943.jpg (deflated 0%)\n",
            "  adding: content/augment/images/rotate2xemay517.jpg (deflated 0%)\n",
            "  adding: content/augment/images/rotate3CarLongPlate478.jpg (deflated 1%)\n",
            "  adding: content/augment/images/rotate3xemay76.jpg (deflated 0%)\n",
            "  adding: content/augment/images/rotate4xemay2161.jpg (deflated 0%)\n",
            "  adding: content/augment/images/rotate3CarLongPlate444.jpg (deflated 1%)\n",
            "  adding: content/augment/images/rotate2xemay385.jpg (deflated 0%)\n",
            "  adding: content/augment/images/rotate10xemay839.jpg (deflated 0%)\n",
            "  adding: content/augment/images/rotateiwt668.jpg (deflated 1%)\n",
            "  adding: content/augment/images/rotateiwt7140.jpg (deflated 1%)\n",
            "  adding: content/augment/images/rotate1xemay1635.jpg (deflated 0%)\n",
            "  adding: content/augment/images/rotate3CarLongPlate427.jpg (deflated 1%)\n",
            "  adding: content/augment/images/rotate2xemay393.jpg (deflated 0%)\n",
            "  adding: content/augment/images/rotateiwt222.jpg (deflated 3%)\n",
            "  adding: content/augment/images/rotateiwt44.jpg (deflated 1%)\n",
            "  adding: content/augment/images/rotate5PlateBaza283.jpg (deflated 4%)\n",
            "  adding: content/augment/images/rotate3xemay1582.jpg (deflated 0%)\n",
            "  adding: content/augment/images/rotate6PlateBaza347.jpg (deflated 3%)\n",
            "  adding: content/augment/images/rotateiwt7114.jpg (deflated 0%)\n",
            "  adding: content/augment/images/rotate3xemay267.jpg (deflated 0%)\n",
            "  adding: content/augment/images/rotate3xemay2467.jpg (deflated 0%)\n",
            "  adding: content/augment/images/rotate6xemay660.jpg (deflated 0%)\n",
            "  adding: content/augment/images/rotate6xemay652.jpg (deflated 0%)\n",
            "  adding: content/augment/images/rotate2xemay1920.jpg (deflated 0%)\n",
            "  adding: content/augment/images/rotate3PlateBaza162.jpg (deflated 2%)\n",
            "  adding: content/augment/images/rotate5xemay1255.jpg (deflated 0%)\n",
            "  adding: content/augment/images/rotate2xemay321.jpg (deflated 0%)\n",
            "  adding: content/augment/images/rotate5xemay996.jpg (deflated 0%)\n",
            "  adding: content/augment/images/rotateiwt28.jpg (deflated 3%)\n",
            "  adding: content/augment/images/rotate5xemay811.jpg (deflated 0%)\n",
            "  adding: content/augment/images/rotate4xemay2318.jpg (deflated 0%)\n",
            "  adding: content/augment/images/rotate2xemay124.jpg (deflated 0%)\n",
            "  adding: content/augment/images/rotate3CarLongPlate686.jpg (deflated 1%)\n",
            "  adding: content/augment/images/rotate2PlateBaza236.jpg (deflated 1%)\n",
            "  adding: content/augment/images/rotateiwt871.jpg (deflated 1%)\n",
            "  adding: content/augment/images/rotate3PlateBaza221.jpg (deflated 1%)\n",
            "  adding: content/augment/images/rotate2xemay2345.jpg (deflated 0%)\n",
            "  adding: content/augment/images/rotate8xemay354.jpg (deflated 0%)\n",
            "  adding: content/augment/images/rotate9xemay285.jpg (deflated 0%)\n",
            "  adding: content/augment/images/rotate3xemay259.jpg (deflated 0%)\n",
            "  adding: content/augment/images/rotate2xemay2334.jpg (deflated 0%)\n",
            "  adding: content/augment/images/rotate4PlateBaza137.jpg (deflated 2%)\n",
            "  adding: content/augment/images/rotate6xemay18.jpg (deflated 0%)\n",
            "  adding: content/augment/images/rotateiwt818.jpg (deflated 1%)\n",
            "  adding: content/augment/images/rotate8PlateBaza302.jpg (deflated 3%)\n",
            "  adding: content/augment/images/rotate2xemay2170.jpg (deflated 0%)\n",
            "  adding: content/augment/images/rotate1xemay723.jpg (deflated 0%)\n",
            "  adding: content/augment/images/rotate4xemay2362.jpg (deflated 0%)\n",
            "  adding: content/augment/images/rotate5xemay1459.jpg (deflated 0%)\n",
            "  adding: content/augment/images/rotate1xemay2447.jpg (deflated 0%)\n",
            "  adding: content/augment/images/rotate3CarLongPlate769.jpg (deflated 1%)\n",
            "  adding: content/augment/images/rotate3xemay454.jpg (deflated 0%)\n",
            "  adding: content/augment/images/rotate6PlateBaza306.jpg (deflated 4%)\n",
            "  adding: content/augment/images/rotateiwt276.jpg (deflated 2%)\n",
            "  adding: content/augment/images/rotate2PlateBaza357.jpg (deflated 2%)\n",
            "  adding: content/augment/images/rotateiwt438.jpg (deflated 1%)\n",
            "  adding: content/augment/images/rotateiwt18.jpg (deflated 1%)\n",
            "  adding: content/augment/images/rotate4CarLongPlate847.jpg (deflated 1%)\n",
            "  adding: content/augment/images/rotate3xemay846.jpg (deflated 0%)\n",
            "  adding: content/augment/images/rotate4CarLongPlate576.jpg (deflated 1%)\n",
            "  adding: content/augment/images/rotate5xemay1590.jpg (deflated 0%)\n",
            "  adding: content/augment/images/rotateiwt450.jpg (deflated 8%)\n",
            "  adding: content/augment/images/rotate9xemay1.jpg (deflated 0%)\n",
            "  adding: content/augment/images/rotate3xemay175.jpg (deflated 0%)\n",
            "  adding: content/augment/images/rotate6xemay364.jpg (deflated 0%)\n",
            "  adding: content/augment/images/rotate6xemay655.jpg (deflated 0%)\n",
            "  adding: content/augment/images/rotate2xemay1248.jpg (deflated 0%)\n",
            "  adding: content/augment/images/rotate2PlateBaza320.jpg (deflated 2%)\n",
            "  adding: content/augment/images/rotate2xemay1837.jpg (deflated 0%)\n",
            "  adding: content/augment/images/rotate4xemay2473.jpg (deflated 0%)\n",
            "  adding: content/augment/images/rotate5xemay1957.jpg (deflated 0%)\n",
            "  adding: content/augment/images/rotate3PlateBaza228.jpg (deflated 2%)\n",
            "  adding: content/augment/images/rotateiwt768.jpg (deflated 1%)\n",
            "  adding: content/augment/images/rotate4xemay2408.jpg (deflated 0%)\n",
            "  adding: content/augment/images/rotate3xemay31.jpg (deflated 0%)\n",
            "  adding: content/augment/images/rotate3PlateBaza474.jpg (deflated 2%)\n",
            "  adding: content/augment/images/rotateiwt69.jpg (deflated 3%)\n",
            "  adding: content/augment/images/rotate5CarLongPlate845.jpg (deflated 1%)\n",
            "  adding: content/augment/images/rotate2xemay341.jpg (deflated 0%)\n",
            "  adding: content/augment/images/rotateiwt759.jpg (deflated 0%)\n",
            "  adding: content/augment/images/rotate3CarLongPlate557.jpg (deflated 1%)\n",
            "  adding: content/augment/images/rotateiwt216.jpg (deflated 1%)\n",
            "  adding: content/augment/images/rotate5xemay133.jpg (deflated 0%)\n",
            "  adding: content/augment/images/rotate3CarLongPlate641.jpg (deflated 1%)\n",
            "  adding: content/augment/images/rotate3CarLongPlate887.jpg (deflated 1%)\n",
            "  adding: content/augment/images/rotate5xemay342.jpg (deflated 0%)\n",
            "  adding: content/augment/images/rotate3PlateBaza384.jpg (deflated 6%)\n",
            "  adding: content/augment/images/rotate4xemay2453.jpg (deflated 0%)\n",
            "  adding: content/augment/images/rotate1xemay1125.jpg (deflated 0%)\n",
            "  adding: content/augment/images/rotate8xemay265.jpg (deflated 0%)\n",
            "  adding: content/augment/images/rotate2xemay2272.jpg (deflated 1%)\n",
            "  adding: content/augment/images/rotate2xemay447.jpg (deflated 0%)\n",
            "  adding: content/augment/images/rotate2xemay2279.jpg (deflated 0%)\n",
            "  adding: content/augment/images/rotate1xemay399.jpg (deflated 0%)\n",
            "  adding: content/augment/images/rotate5CarLongPlate807.jpg (deflated 1%)\n",
            "  adding: content/augment/images/rotate3CarLongPlate661.jpg (deflated 1%)\n",
            "  adding: content/augment/images/rotate2xemay88.jpg (deflated 0%)\n",
            "  adding: content/augment/images/rotate4xemay2101.jpg (deflated 0%)\n",
            "  adding: content/augment/images/rotate3CarLongPlate800.jpg (deflated 1%)\n",
            "  adding: content/augment/images/rotateiwt80.jpg (deflated 0%)\n",
            "  adding: content/augment/images/rotateiwt250.jpg (deflated 1%)\n",
            "  adding: content/augment/images/rotate1xemay693.jpg (deflated 0%)\n",
            "  adding: content/augment/images/rotate2xemay1266.jpg (deflated 0%)\n",
            "  adding: content/augment/images/rotate1xemay1681.jpg (deflated 0%)\n",
            "  adding: content/augment/images/rotate3xemay1209.jpg (deflated 0%)\n",
            "  adding: content/augment/images/rotateiwt252.jpg (deflated 4%)\n",
            "  adding: content/augment/images/rotate5CarLongPlate518.jpg (deflated 1%)\n",
            "  adding: content/augment/images/rotate12xemay0.jpg (deflated 0%)\n",
            "  adding: content/augment/images/rotate5xemay1697.jpg (deflated 0%)\n",
            "  adding: content/augment/images/rotateiwt113.jpg (deflated 1%)\n",
            "  adding: content/augment/images/rotate2xemay2114.jpg (deflated 3%)\n",
            "  adding: content/augment/images/rotate2xemay2022.jpg (deflated 0%)\n",
            "  adding: content/augment/images/rotate1PlateBaza485.jpg (deflated 3%)\n",
            "  adding: content/augment/images/rotate3xemay1475.jpg (deflated 0%)\n",
            "  adding: content/augment/images/rotate2xemay2333.jpg (deflated 1%)\n",
            "  adding: content/augment/images/rotate3xemay2230.jpg (deflated 1%)\n",
            "  adding: content/augment/images/rotateiwt226.jpg (deflated 2%)\n",
            "  adding: content/augment/images/rotate4xemay2113.jpg (deflated 0%)\n",
            "  adding: content/augment/images/rotate6CarLongPlate899.jpg (deflated 1%)\n",
            "  adding: content/augment/images/rotate3xemay222.jpg (deflated 0%)\n",
            "  adding: content/augment/images/rotateiwt744.jpg (deflated 1%)\n",
            "  adding: content/augment/images/rotate3CarLongPlate909.jpg (deflated 0%)\n",
            "  adding: content/augment/images/rotate4xemay2440.jpg (deflated 0%)\n",
            "  adding: content/augment/images/rotate2xemay2401.jpg (deflated 0%)\n",
            "  adding: content/augment/images/rotateiwt318.jpg (deflated 1%)\n",
            "  adding: content/augment/images/rotate5CarLongPlate273.jpg (deflated 1%)\n",
            "  adding: content/augment/images/rotate2xemay2489.jpg (deflated 0%)\n",
            "  adding: content/augment/images/rotate2xemay1791.jpg (deflated 0%)\n",
            "  adding: content/augment/images/rotate3xemay1339.jpg (deflated 0%)\n",
            "  adding: content/augment/images/rotate12xemay601.jpg (deflated 0%)\n",
            "  adding: content/augment/images/rotate1xemay2452.jpg (deflated 0%)\n",
            "  adding: content/augment/images/rotate6CarLongPlate687.jpg (deflated 1%)\n",
            "  adding: content/augment/images/rotate1xemay2335.jpg (deflated 0%)\n",
            "  adding: content/augment/images/rotate2xemay2144.jpg (deflated 0%)\n",
            "  adding: content/augment/images/rotate3PlateBaza456.jpg (deflated 2%)\n",
            "  adding: content/augment/images/rotate5xemay48.jpg (deflated 0%)\n",
            "  adding: content/augment/images/rotate2xemay2068.jpg (deflated 0%)\n",
            "  adding: content/augment/images/rotate3xemay1574.jpg (deflated 0%)\n",
            "  adding: content/augment/images/rotate4CarLongPlate504.jpg (deflated 1%)\n",
            "  adding: content/augment/images/rotate12xemay1259.jpg (deflated 0%)\n",
            "  adding: content/augment/images/rotate6CarLongPlate743.jpg (deflated 1%)\n",
            "  adding: content/augment/images/rotate1xemay2478.jpg (deflated 0%)\n",
            "  adding: content/augment/images/rotate6xemay210.jpg (deflated 0%)\n",
            "  adding: content/augment/images/rotate6xemay466.jpg (deflated 0%)\n",
            "  adding: content/augment/images/rotate2xemay923.jpg (deflated 0%)\n",
            "  adding: content/augment/images/rotateiwt365.jpg (deflated 1%)\n",
            "  adding: content/augment/images/rotate4xemay2331.jpg (deflated 0%)\n",
            "  adding: content/augment/images/rotateiwt58.jpg (deflated 1%)\n",
            "  adding: content/augment/images/rotate6xemay615.jpg (deflated 0%)\n",
            "  adding: content/augment/images/rotateiwt786.jpg (deflated 1%)\n",
            "  adding: content/augment/images/rotateiwt357.jpg (deflated 1%)\n",
            "  adding: content/augment/images/rotate3xemay754.jpg (deflated 0%)\n",
            "  adding: content/augment/images/rotateiwt861.jpg (deflated 1%)\n",
            "  adding: content/augment/images/rotate10xemay1457.jpg (deflated 0%)\n",
            "  adding: content/augment/images/rotate3PlateBaza170.jpg (deflated 3%)\n",
            "  adding: content/augment/images/rotateiwt377.jpg (deflated 1%)\n",
            "  adding: content/augment/images/rotate3xemay1014.jpg (deflated 0%)\n",
            "  adding: content/augment/images/rotate2xemay2391.jpg (deflated 0%)\n",
            "  adding: content/augment/images/rotate4CarLongPlate507.jpg (deflated 1%)\n",
            "  adding: content/augment/images/rotate1xemay785.jpg (deflated 0%)\n",
            "  adding: content/augment/images/rotate5xemay551.jpg (deflated 0%)\n",
            "  adding: content/augment/images/rotateiwt430.jpg (deflated 1%)\n",
            "  adding: content/augment/images/rotate4CarLongPlate778.jpg (deflated 1%)\n",
            "  adding: content/augment/images/rotateiwt437.jpg (deflated 2%)\n"
          ]
        }
      ]
    },
    {
      "cell_type": "code",
      "source": [],
      "metadata": {
        "id": "cM7g9rw3squx"
      },
      "execution_count": null,
      "outputs": []
    }
  ]
}
